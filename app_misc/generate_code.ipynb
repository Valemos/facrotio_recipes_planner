{
 "cells": [
  {
   "cell_type": "code",
   "execution_count": 10,
   "metadata": {
    "collapsed": true
   },
   "outputs": [],
   "source": [
    "from itertools import chain\n",
    "from pathlib import Path\n",
    "import pyperclip\n",
    "from factorio.crafting_environment.stats_reading import read\n",
    "\n",
    "\n",
    "folder = Path('/home/anton/.factorio/script-output/recipe-lister/')\n",
    "\n",
    "def get_enum_obj(objs):\n",
    "    _res = \"\"\n",
    "\n",
    "    _enum_value: str\n",
    "    for _enum_value in objs:\n",
    "        _var_name = _enum_value.replace('-', '_').upper()\n",
    "        _res += f'{_var_name} = \"{_enum_value}\"\\n'\n",
    "    return _res\n"
   ]
  },
  {
   "cell_type": "code",
   "execution_count": null,
   "outputs": [],
   "source": [
    "# create list object\n",
    "obj_name = pyperclip.paste()\n",
    "\n",
    "result = f\"\"\"\n",
    "class {obj_name}List(list, AContainerJsonSerializable):\n",
    "    __element_type__ = {obj_name}\n",
    "\"\"\"\n",
    "\n",
    "pyperclip.copy(result)"
   ],
   "metadata": {
    "collapsed": false,
    "pycharm": {
     "name": "#%%\n"
    }
   }
  },
  {
   "cell_type": "code",
   "execution_count": 9,
   "outputs": [],
   "source": [
    "# create enum from type strings\n",
    "r = set()\n",
    "\n",
    "for stat in read(folder / \"recipe.json\").values():\n",
    "    for cat in stat[\"category\"].keys():\n",
    "        r.add(cat)\n",
    "\n",
    "pyperclip.copy(get_enum_obj(r))"
   ],
   "metadata": {
    "collapsed": false,
    "pycharm": {
     "name": "#%%\n"
    }
   }
  },
  {
   "cell_type": "code",
   "execution_count": 25,
   "outputs": [],
   "source": [
    "# generate variables from dictionary\n",
    "result = \"\"\n",
    "jsons = read(folder / \"transport-belt.json\")\n",
    "for key, value in next(iter(jsons.values())).items():\n",
    "    result += f'{key}: {str(type(value).__name__)} = None\\n'\n",
    "\n",
    "pyperclip.copy(result)"
   ],
   "metadata": {
    "collapsed": false,
    "pycharm": {
     "name": "#%%\n"
    }
   }
  },
  {
   "cell_type": "code",
   "execution_count": 11,
   "outputs": [
    {
     "name": "stdout",
     "output_type": "stream",
     "text": [
      "{'assembling-machine'}\n"
     ]
    }
   ],
   "source": [
    "types = set()\n",
    "for j in read(folder / \"assembling-machine.json\").values():\n",
    "    types.add(j[\"type\"])\n",
    "\n",
    "print(types)"
   ],
   "metadata": {
    "collapsed": false,
    "pycharm": {
     "name": "#%%\n"
    }
   }
  },
  {
   "cell_type": "code",
   "execution_count": 22,
   "outputs": [
    {
     "name": "stdout",
     "output_type": "stream",
     "text": [
      "{'basic-solid', 'se-core-mining', 'basic-fluid', 'hard-resource'}\n"
     ]
    }
   ],
   "source": [
    "# true dict types\n",
    "\n",
    "types = set()\n",
    "for j in read(folder / \"mining-drill.json\").values():\n",
    "    for key in j[\"resource_categories\"].keys():\n",
    "        types.add(key)\n",
    "\n",
    "print(types)"
   ],
   "metadata": {
    "collapsed": false,
    "pycharm": {
     "name": "#%%\n"
    }
   }
  },
  {
   "cell_type": "code",
   "execution_count": 14,
   "outputs": [],
   "source": [
    "cats = set()\n",
    "\n",
    "for stat in read(folder / \"item.json\").values():\n",
    "    cats.add(stat[\"type\"])\n",
    "\n",
    "\n",
    "pyperclip.copy(get_enum_obj(cats))"
   ],
   "metadata": {
    "collapsed": false,
    "pycharm": {
     "name": "#%%\n"
    }
   }
  }
 ],
 "metadata": {
  "kernelspec": {
   "display_name": "Python 3",
   "language": "python",
   "name": "python3"
  },
  "language_info": {
   "codemirror_mode": {
    "name": "ipython",
    "version": 2
   },
   "file_extension": ".py",
   "mimetype": "text/x-python",
   "name": "python",
   "nbconvert_exporter": "python",
   "pygments_lexer": "ipython2",
   "version": "2.7.6"
  }
 },
 "nbformat": 4,
 "nbformat_minor": 0
}