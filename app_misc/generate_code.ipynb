{
 "cells": [
  {
   "cell_type": "code",
   "execution_count": 9,
   "metadata": {
    "collapsed": true
   },
   "outputs": [],
   "source": [
    "from pathlib import Path\n",
    "import pyperclip\n",
    "from factorio.crafting_environment.exporter_mod_deserializer import read\n",
    "\n",
    "\n",
    "folder = Path('/home/anton/.factorio/script-output/recipe-lister/')\n"
   ]
  },
  {
   "cell_type": "code",
   "execution_count": null,
   "outputs": [],
   "source": [
    "# create list object\n",
    "obj_name = pyperclip.paste()\n",
    "\n",
    "result = f\"\"\"\n",
    "class {obj_name}List(list, AContainerJsonSerializable):\n",
    "    __element_type__ = {obj_name}\n",
    "\"\"\"\n",
    "\n",
    "pyperclip.copy(result)"
   ],
   "metadata": {
    "collapsed": false,
    "pycharm": {
     "name": "#%%\n"
    }
   }
  },
  {
   "cell_type": "code",
   "execution_count": null,
   "outputs": [],
   "source": [
    "# generate enum\n",
    "\n",
    "strings = []\n",
    "\n",
    "st = \"\"\n",
    "\n",
    "enum_value: str\n",
    "for enum_value in strings:\n",
    "    var_name = enum_value.replace('-', '_').upper()\n",
    "    st += f'{var_name} = \"{enum_value}\"\\n'\n",
    "\n",
    "pyperclip.copy(st)\n"
   ],
   "metadata": {
    "collapsed": false,
    "pycharm": {
     "name": "#%%\n"
    }
   }
  },
  {
   "cell_type": "code",
   "execution_count": 23,
   "outputs": [],
   "source": [
    "\n",
    "# generate enum with objects\n",
    "\n",
    "strings = []\n",
    "\n",
    "st = \"\"\n",
    "\n",
    "enum_value: str\n",
    "for enum_value in strings:\n",
    "    var_name = enum_value.replace('-', '_').upper()\n",
    "    st += f'{var_name} = \"{enum_value}\"\\n'\n",
    "\n",
    "pyperclip.copy(st)"
   ],
   "metadata": {
    "collapsed": false,
    "pycharm": {
     "name": "#%%\n"
    }
   }
  },
  {
   "cell_type": "code",
   "execution_count": null,
   "outputs": [],
   "source": [
    "# generate parameters from dict\n",
    "\n",
    "inp = {}\n",
    "\n",
    "st = \"\"\n",
    "\n",
    "for key, value in inp:\n",
    "    st += f''"
   ],
   "metadata": {
    "collapsed": false,
    "pycharm": {
     "name": "#%%\n"
    }
   }
  },
  {
   "cell_type": "code",
   "execution_count": 21,
   "outputs": [],
   "source": [
    "# create enum from type strings\n",
    "r = set()\n",
    "\n",
    "for stat in read(folder / \"mining-drill.json\").values():\n",
    "    for cat in stat[\"resource_categories\"].keys():\n",
    "        r.add(cat)\n",
    "\n",
    "st = \"\"\n",
    "\n",
    "category: str\n",
    "for category in r:\n",
    "    var_name = category.replace('-', '_').upper()\n",
    "    st += f'{var_name} = \"{category}\"\\n'\n",
    "\n",
    "\n",
    "pyperclip.copy(st)"
   ],
   "metadata": {
    "collapsed": false,
    "pycharm": {
     "name": "#%%\n"
    }
   }
  },
  {
   "cell_type": "code",
   "execution_count": 25,
   "outputs": [],
   "source": [
    "# generate variables from dictionary\n",
    "result = \"\"\n",
    "jsons = read(folder / \"transport-belt.json\")\n",
    "for key, value in next(iter(jsons.values())).items():\n",
    "    result += f'{key}: {str(type(value).__name__)} = None\\n'\n",
    "\n",
    "pyperclip.copy(result)"
   ],
   "metadata": {
    "collapsed": false,
    "pycharm": {
     "name": "#%%\n"
    }
   }
  },
  {
   "cell_type": "code",
   "execution_count": 11,
   "outputs": [
    {
     "name": "stdout",
     "output_type": "stream",
     "text": [
      "{'assembling-machine'}\n"
     ]
    }
   ],
   "source": [
    "types = set()\n",
    "for j in read(folder / \"assembling-machine.json\").values():\n",
    "    types.add(j[\"type\"])\n",
    "\n",
    "print(types)"
   ],
   "metadata": {
    "collapsed": false,
    "pycharm": {
     "name": "#%%\n"
    }
   }
  },
  {
   "cell_type": "code",
   "execution_count": 22,
   "outputs": [
    {
     "name": "stdout",
     "output_type": "stream",
     "text": [
      "{'basic-solid', 'se-core-mining', 'basic-fluid', 'hard-resource'}\n"
     ]
    }
   ],
   "source": [
    "# true dict types\n",
    "\n",
    "types = set()\n",
    "for j in read(folder / \"mining-drill.json\").values():\n",
    "    for key in j[\"resource_categories\"].keys():\n",
    "        types.add(key)\n",
    "\n",
    "print(types)\n"
   ],
   "metadata": {
    "collapsed": false,
    "pycharm": {
     "name": "#%%\n"
    }
   }
  }
 ],
 "metadata": {
  "kernelspec": {
   "display_name": "Python 3",
   "language": "python",
   "name": "python3"
  },
  "language_info": {
   "codemirror_mode": {
    "name": "ipython",
    "version": 2
   },
   "file_extension": ".py",
   "mimetype": "text/x-python",
   "name": "python",
   "nbconvert_exporter": "python",
   "pygments_lexer": "ipython2",
   "version": "2.7.6"
  }
 },
 "nbformat": 4,
 "nbformat_minor": 0
}