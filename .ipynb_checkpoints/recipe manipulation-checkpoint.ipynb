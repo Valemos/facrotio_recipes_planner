{
 "cells": [
  {
   "cell_type": "code",
   "execution_count": 1,
   "metadata": {},
   "outputs": [],
   "source": [
    "%load_ext autoreload\n",
    "%autoreload 2"
   ]
  },
  {
   "cell_type": "code",
   "execution_count": 2,
   "metadata": {},
   "outputs": [],
   "source": [
    "import json\n",
    "from pathlib import Path"
   ]
  },
  {
   "cell_type": "code",
   "execution_count": 3,
   "metadata": {},
   "outputs": [],
   "source": [
    "with Path(\"recipes.json\").open() as fin:\n",
    "    recipes_json = json.load(fin)"
   ]
  },
  {
   "cell_type": "code",
   "execution_count": 4,
   "metadata": {},
   "outputs": [],
   "source": [
    "objects_info = {item['id']: item for item in recipes_json}"
   ]
  },
  {
   "cell_type": "code",
   "execution_count": 14,
   "metadata": {},
   "outputs": [
    {
     "data": {
      "text/plain": [
       "{'id': 'copper-ore',\n",
       " 'name': 'Copper ore',\n",
       " 'type': 'Resource',\n",
       " 'wiki_link': 'https://wiki.factorio.com/Copper_ore',\n",
       " 'category': 'Intermediate product',\n",
       " 'recipe': {'time': None, 'yield': None, 'ingredients': []}}"
      ]
     },
     "execution_count": 14,
     "metadata": {},
     "output_type": "execute_result"
    }
   ],
   "source": [
    "objects_info['copper-ore']"
   ]
  },
  {
   "cell_type": "code",
   "execution_count": 15,
   "metadata": {},
   "outputs": [
    {
     "data": {
      "text/plain": [
       "{'id': 'advanced-circuit',\n",
       " 'name': 'Advanced circuit',\n",
       " 'type': 'Intermediate product',\n",
       " 'wiki_link': 'https://wiki.factorio.com/Advanced_circuit',\n",
       " 'category': 'Intermediate product',\n",
       " 'recipe': {'time': 6,\n",
       "  'yield': 1,\n",
       "  'ingredients': [{'id': 'copper-cable', 'amount': 4},\n",
       "   {'id': 'electronic-circuit', 'amount': 2},\n",
       "   {'id': 'plastic-bar', 'amount': 2}]}}"
      ]
     },
     "execution_count": 15,
     "metadata": {},
     "output_type": "execute_result"
    }
   ],
   "source": [
    "objects_info['advanced-circuit']"
   ]
  },
  {
   "cell_type": "code",
   "execution_count": 16,
   "metadata": {},
   "outputs": [],
   "source": [
    "from factorio.recipe_functions import *"
   ]
  },
  {
   "cell_type": "code",
   "execution_count": 20,
   "metadata": {},
   "outputs": [
    {
     "name": "stdout",
     "output_type": "stream",
     "text": [
      "electronic-circuit False\n",
      "copper-cable False\n",
      "copper-plate False\n",
      "copper-ore True\n",
      "iron-plate False\n",
      "iron-ore True\n"
     ]
    },
    {
     "data": {
      "text/plain": [
       "dict_keys(['electronic-circuit', 'copper-cable', 'copper-plate', 'copper-ore', 'iron-plate', 'iron-ore'])"
      ]
     },
     "execution_count": 20,
     "metadata": {},
     "output_type": "execute_result"
    }
   ],
   "source": [
    "recipe = get_components_recipe('electronic-circuit', objects_info, ['copper-plate', 'iron-plate'])\n",
    "recipe.keys()"
   ]
  },
  {
   "cell_type": "code",
   "execution_count": null,
   "metadata": {},
   "outputs": [],
   "source": []
  }
 ],
 "metadata": {
  "kernelspec": {
   "display_name": "Python 3",
   "language": "python",
   "name": "python3"
  },
  "language_info": {
   "codemirror_mode": {
    "name": "ipython",
    "version": 3
   },
   "file_extension": ".py",
   "mimetype": "text/x-python",
   "name": "python",
   "nbconvert_exporter": "python",
   "pygments_lexer": "ipython3",
   "version": "3.9.1"
  }
 },
 "nbformat": 4,
 "nbformat_minor": 4
}
