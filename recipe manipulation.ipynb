{
 "cells": [
  {
   "cell_type": "code",
   "execution_count": 1,
   "metadata": {},
   "outputs": [
    {
     "output_type": "stream",
     "name": "stdout",
     "text": [
      "The autoreload extension is already loaded. To reload it, use:\n  %reload_ext autoreload\n"
     ]
    }
   ],
   "source": [
    "%load_ext autoreload\n",
    "%autoreload 2"
   ]
  },
  {
   "cell_type": "code",
   "execution_count": 2,
   "metadata": {},
   "outputs": [],
   "source": [
    "from factorio.recipe_collections import recipes_json"
   ]
  },
  {
   "cell_type": "code",
   "execution_count": 7,
   "metadata": {},
   "outputs": [
    {
     "output_type": "stream",
     "name": "stdout",
     "text": [
      "{'id': 'electronic-circuit', 'name': 'Electronic circuit', 'type': 'Intermediate product', 'wiki_link': 'https://wiki.factorio.com/Electronic_circuit', 'category': 'Intermediate product', 'recipe': {'time': 0.5, 'yield': 1, 'ingredients': [{'id': 'copper-cable', 'amount': 3}, {'id': 'iron-plate', 'amount': 1}]}}\n"
     ]
    }
   ],
   "source": [
    "for el in recipes_json:\n",
    "    if el['id'] == 'electronic-circuit':\n",
    "        print(el)\n",
    "        break"
   ]
  },
  {
   "cell_type": "code",
   "execution_count": 4,
   "metadata": {},
   "outputs": [],
   "source": [
    "from factorio.recipe_collections import recipes_info"
   ]
  },
  {
   "cell_type": "code",
   "execution_count": 10,
   "metadata": {},
   "outputs": [
    {
     "output_type": "execute_result",
     "data": {
      "text/plain": [
       "Recipe(time=3.5, ingredients=\n",
       "Materials:\n",
       "iron-ore: Material(id='iron-ore', amount=1)\n",
       ", result=\n",
       "Materials:\n",
       "iron-plate: Material(id='iron-plate', amount=1)\n",
       ")"
      ]
     },
     "metadata": {},
     "execution_count": 10
    }
   ],
   "source": [
    "recipes_info['iron-plate']"
   ]
  },
  {
   "cell_type": "code",
   "execution_count": 11,
   "metadata": {},
   "outputs": [
    {
     "output_type": "execute_result",
     "data": {
      "text/plain": [
       "Recipe(time=0, ingredients=Empty, result=\n",
       "Materials:\n",
       "coal: Material(id='coal', amount=1)\n",
       ")"
      ]
     },
     "metadata": {},
     "execution_count": 11
    }
   ],
   "source": [
    "recipes_info[\"coal\"]"
   ]
  },
  {
   "cell_type": "code",
   "execution_count": 1,
   "metadata": {},
   "outputs": [],
   "source": [
    "from factorio.recipe_functions import *"
   ]
  },
  {
   "cell_type": "code",
   "execution_count": 13,
   "metadata": {},
   "outputs": [],
   "source": [
    "ready_components = ['electronic-circuit', 'copper-plate', 'iron-plate', 'iron-gear-wheel']"
   ]
  },
  {
   "cell_type": "code",
   "execution_count": 14,
   "metadata": {},
   "outputs": [
    {
     "output_type": "execute_result",
     "data": {
      "text/plain": [
       "\n",
       "Materials:\n",
       "time: Material(id='time', amount=0.5)\n",
       "electronic-circuit: Material(id='electronic-circuit', amount=3)\n",
       "iron-gear-wheel: Material(id='iron-gear-wheel', amount=5)\n",
       "iron-plate: Material(id='iron-plate', amount=9)"
      ]
     },
     "metadata": {},
     "execution_count": 14
    }
   ],
   "source": [
    "recipe = get_basic_resources('assembling-machine-1', ready_components)\n",
    "recipe"
   ]
  },
  {
   "cell_type": "code",
   "execution_count": 15,
   "metadata": {},
   "outputs": [
    {
     "output_type": "execute_result",
     "data": {
      "text/plain": [
       "\n",
       "Materials:\n",
       "time: Material(id='time', amount=168.5)\n",
       "copper-plate: Material(id='copper-plate', amount=10)\n",
       "electronic-circuit: Material(id='electronic-circuit', amount=9)\n",
       "coal: Material(id='coal', amount=4)\n",
       "petroleum-gas: Material(id='petroleum-gas', amount=6080)\n",
       "iron-plate: Material(id='iron-plate', amount=56)\n",
       "water: Material(id='water', amount=10000)\n",
       "heavy-oil: Material(id='heavy-oil', amount=150)"
      ]
     },
     "metadata": {},
     "execution_count": 15
    }
   ],
   "source": [
    "resouces = get_basic_resources('logistic-robot', ['electronic-circuit', 'copper-plate', 'iron-plate'])\n",
    "resouces"
   ]
  },
  {
   "cell_type": "code",
   "execution_count": 16,
   "metadata": {},
   "outputs": [
    {
     "output_type": "execute_result",
     "data": {
      "text/plain": [
       "\n",
       "Materials:\n",
       "time: Material(id='time', amount=15.0)\n",
       "copper-ore: Material(id='copper-ore', amount=3)\n",
       "iron-ore: Material(id='iron-ore', amount=1)"
      ]
     },
     "metadata": {},
     "execution_count": 16
    }
   ],
   "source": [
    "get_basic_resources('electronic-circuit')"
   ]
  },
  {
   "cell_type": "code",
   "execution_count": 17,
   "metadata": {},
   "outputs": [
    {
     "output_type": "execute_result",
     "data": {
      "text/plain": [
       "\n",
       "Materials:\n",
       "time: Material(id='time', amount=1.0)\n",
       "copper-plate: Material(id='copper-plate', amount=3)\n",
       "iron-plate: Material(id='iron-plate', amount=1)"
      ]
     },
     "metadata": {},
     "execution_count": 17
    }
   ],
   "source": [
    "get_basic_resources('electronic-circuit', ['copper-plate', 'iron-plate'])"
   ]
  },
  {
   "cell_type": "code",
   "execution_count": 18,
   "metadata": {},
   "outputs": [
    {
     "output_type": "execute_result",
     "data": {
      "text/plain": [
       "<graphviz.dot.Digraph at 0x222fe3024f0>"
      ],
      "image/svg+xml": "<?xml version=\"1.0\" encoding=\"UTF-8\" standalone=\"no\"?>\r\n<!DOCTYPE svg PUBLIC \"-//W3C//DTD SVG 1.1//EN\"\r\n \"http://www.w3.org/Graphics/SVG/1.1/DTD/svg11.dtd\">\r\n<!-- Generated by graphviz version 2.47.0 (20210316.0004)\r\n -->\r\n<!-- Pages: 1 -->\r\n<svg width=\"339pt\" height=\"188pt\"\r\n viewBox=\"0.00 0.00 338.79 188.00\" xmlns=\"http://www.w3.org/2000/svg\" xmlns:xlink=\"http://www.w3.org/1999/xlink\">\r\n<g id=\"graph0\" class=\"graph\" transform=\"scale(1 1) rotate(0) translate(4 184)\">\r\n<polygon fill=\"white\" stroke=\"transparent\" points=\"-4,4 -4,-184 334.79,-184 334.79,4 -4,4\"/>\r\n<!-- electronic&#45;circuit -->\r\n<g id=\"node1\" class=\"node\">\r\n<title>electronic&#45;circuit</title>\r\n<ellipse fill=\"none\" stroke=\"black\" cx=\"71.49\" cy=\"-90\" rx=\"71.49\" ry=\"18\"/>\r\n<text text-anchor=\"middle\" x=\"71.49\" y=\"-86.3\" font-family=\"Times New Roman,serif\" font-size=\"14.00\">electronic&#45;circuit</text>\r\n</g>\r\n<!-- assembling&#45;machine&#45;1 -->\r\n<g id=\"node2\" class=\"node\">\r\n<title>assembling&#45;machine&#45;1</title>\r\n<ellipse fill=\"none\" stroke=\"black\" cx=\"170.49\" cy=\"-18\" rx=\"90.98\" ry=\"18\"/>\r\n<text text-anchor=\"middle\" x=\"170.49\" y=\"-14.3\" font-family=\"Times New Roman,serif\" font-size=\"14.00\">assembling&#45;machine&#45;1</text>\r\n</g>\r\n<!-- electronic&#45;circuit&#45;&gt;assembling&#45;machine&#45;1 -->\r\n<g id=\"edge1\" class=\"edge\">\r\n<title>electronic&#45;circuit&#45;&gt;assembling&#45;machine&#45;1</title>\r\n<path fill=\"none\" stroke=\"black\" d=\"M94.46,-72.76C107.63,-63.45 124.38,-51.61 138.79,-41.41\"/>\r\n<polygon fill=\"black\" stroke=\"black\" points=\"140.82,-44.26 146.97,-35.63 136.78,-38.55 140.82,-44.26\"/>\r\n</g>\r\n<!-- iron&#45;gear&#45;wheel -->\r\n<g id=\"node3\" class=\"node\">\r\n<title>iron&#45;gear&#45;wheel</title>\r\n<ellipse fill=\"none\" stroke=\"black\" cx=\"264.49\" cy=\"-90\" rx=\"66.09\" ry=\"18\"/>\r\n<text text-anchor=\"middle\" x=\"264.49\" y=\"-86.3\" font-family=\"Times New Roman,serif\" font-size=\"14.00\">iron&#45;gear&#45;wheel</text>\r\n</g>\r\n<!-- iron&#45;gear&#45;wheel&#45;&gt;assembling&#45;machine&#45;1 -->\r\n<g id=\"edge2\" class=\"edge\">\r\n<title>iron&#45;gear&#45;wheel&#45;&gt;assembling&#45;machine&#45;1</title>\r\n<path fill=\"none\" stroke=\"black\" d=\"M242.69,-72.76C230.3,-63.53 214.58,-51.83 200.98,-41.7\"/>\r\n<polygon fill=\"black\" stroke=\"black\" points=\"202.94,-38.8 192.83,-35.63 198.76,-44.41 202.94,-38.8\"/>\r\n</g>\r\n<!-- iron&#45;plate -->\r\n<g id=\"node4\" class=\"node\">\r\n<title>iron&#45;plate</title>\r\n<ellipse fill=\"none\" stroke=\"black\" cx=\"217.49\" cy=\"-162\" rx=\"44.69\" ry=\"18\"/>\r\n<text text-anchor=\"middle\" x=\"217.49\" y=\"-158.3\" font-family=\"Times New Roman,serif\" font-size=\"14.00\">iron&#45;plate</text>\r\n</g>\r\n<!-- iron&#45;plate&#45;&gt;assembling&#45;machine&#45;1 -->\r\n<g id=\"edge4\" class=\"edge\">\r\n<title>iron&#45;plate&#45;&gt;assembling&#45;machine&#45;1</title>\r\n<path fill=\"none\" stroke=\"black\" d=\"M207.18,-144.36C201.26,-134.19 194.11,-120.72 189.49,-108 182.18,-87.86 177.29,-64.08 174.3,-46.17\"/>\r\n<polygon fill=\"black\" stroke=\"black\" points=\"177.73,-45.45 172.72,-36.12 170.81,-46.54 177.73,-45.45\"/>\r\n</g>\r\n<!-- iron&#45;plate&#45;&gt;iron&#45;gear&#45;wheel -->\r\n<g id=\"edge3\" class=\"edge\">\r\n<title>iron&#45;plate&#45;&gt;iron&#45;gear&#45;wheel</title>\r\n<path fill=\"none\" stroke=\"black\" d=\"M228.63,-144.41C234.23,-136.08 241.13,-125.8 247.38,-116.49\"/>\r\n<polygon fill=\"black\" stroke=\"black\" points=\"250.44,-118.21 253.11,-107.96 244.63,-114.31 250.44,-118.21\"/>\r\n</g>\r\n</g>\r\n</svg>\r\n"
     },
     "metadata": {},
     "execution_count": 18
    }
   ],
   "source": [
    "graph = build_recipe_graph('assembling-machine-1', ['electronic-circuit', 'copper-plate', 'iron-plate'])\n",
    "graph"
   ]
  },
  {
   "cell_type": "code",
   "execution_count": 7,
   "metadata": {},
   "outputs": [
    {
     "output_type": "execute_result",
     "data": {
      "text/plain": [
       "Materials electronic-circuit: 1\n",
       "\tMaterials copper-cable: 2\n",
       "\t\tMaterials copper-plate: 1\n",
       "\t\t\tMaterials copper-ore: 1\n",
       "\tMaterials iron-plate: 1\n",
       "\t\tMaterials iron-ore: 1"
      ]
     },
     "metadata": {},
     "execution_count": 7
    }
   ],
   "source": [
    "get_crafting_sequence(Material(\"electronic-circuit\", 4))"
   ]
  },
  {
   "cell_type": "code",
   "execution_count": null,
   "metadata": {},
   "outputs": [],
   "source": []
  }
 ],
 "metadata": {
  "kernelspec": {
   "name": "python388jvsc74a57bd0b3ba2566441a7c06988d0923437866b63cedc61552a5af99d1f4fb67d367b25f",
   "display_name": "Python 3.8.8 64-bit ('base': conda)"
  }
 },
 "nbformat": 4,
 "nbformat_minor": 4
}